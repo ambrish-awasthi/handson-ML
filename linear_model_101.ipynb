{
  "nbformat": 4,
  "nbformat_minor": 0,
  "metadata": {
    "colab": {
      "name": "linera_model.ipynb",
      "provenance": [],
      "collapsed_sections": [],
      "authorship_tag": "ABX9TyPqH077a/2sMQgwdq84p/dP",
      "include_colab_link": true
    },
    "kernelspec": {
      "name": "python3",
      "display_name": "Python 3"
    }
  },
  "cells": [
    {
      "cell_type": "markdown",
      "metadata": {
        "id": "view-in-github",
        "colab_type": "text"
      },
      "source": [
        "<a href=\"https://colab.research.google.com/github/ambrish-awasthi/handson-ML/blob/master/linear_model_101.ipynb\" target=\"_parent\"><img src=\"https://colab.research.google.com/assets/colab-badge.svg\" alt=\"Open In Colab\"/></a>"
      ]
    },
    {
      "cell_type": "code",
      "metadata": {
        "id": "stusmBkZcXGV",
        "colab_type": "code",
        "colab": {}
      },
      "source": [
        "import pandas as pd \n",
        "import numpy as npy\n",
        "import sklearn.linear_model\n",
        "import sklearn.neighbors\n"
      ],
      "execution_count": 0,
      "outputs": []
    },
    {
      "cell_type": "code",
      "metadata": {
        "id": "75LLYpA7dqWY",
        "colab_type": "code",
        "colab": {}
      },
      "source": [
        "def prepare_country_stats(oecd_bli, gdp_per_capita):\n",
        "    oecd_bli = oecd_bli[oecd_bli[\"INEQUALITY\"]==\"TOT\"]\n",
        "    oecd_bli = oecd_bli.pivot(index=\"Country\", columns=\"Indicator\", values=\"Value\")\n",
        "    gdp_per_capita.rename(columns={\"2015\": \"GDP per capita\"}, inplace=True)\n",
        "    gdp_per_capita.set_index(\"Country\", inplace=True)\n",
        "    full_country_stats = pd.merge(left=oecd_bli, right=gdp_per_capita,\n",
        "                                  left_index=True, right_index=True)\n",
        "    full_country_stats.head(2);\n",
        "    full_country_stats.sort_values(by=\"GDP per capita\", inplace=True)\n",
        "    remove_indices = [0, 1, 6, 8, 33, 34, 35]\n",
        "    keep_indices = list(set(range(36)) - set(remove_indices))\n",
        "    return full_country_stats[[\"GDP per capita\", 'Life satisfaction']].iloc[keep_indices]\n",
        "\n"
      ],
      "execution_count": 0,
      "outputs": []
    },
    {
      "cell_type": "code",
      "metadata": {
        "id": "t11yUHWqVw4S",
        "colab_type": "code",
        "outputId": "a0c4f9cd-7861-4215-847f-37d8d09b1b02",
        "colab": {
          "base_uri": "https://localhost:8080/",
          "height": 534
        }
      },
      "source": [
        "oecd_bli=pd.read_csv('https://raw.githubusercontent.com/ambrish-awasthi/handson-ML/master/dataset/lifestats/oecd_bli_2015.csv', thousands=',');\n",
        "gdp_per_capita=pd.read_csv('https://raw.githubusercontent.com/ambrish-awasthi/handson-ML/master/dataset/lifestats/gdp_per_capita.csv',thousands=','\n",
        "            , encoding='latin1', delimiter='\\t',na_values='n/a');\n",
        "print(oecd_bli.head(4));\n",
        "print(gdp_per_capita.head(4));\n",
        "country_stats_data=prepare_country_stats(oecd_bli, gdp_per_capita);\n",
        "X=npy.c_[country_stats_data[\"GDP per capita\"]];\n",
        "Y=npy.c_[country_stats_data[\"Life satisfaction\"]]\n",
        "country_stats_data.plot(kind=\"scatter\", x=\"GDP per capita\",y=\"Life satisfaction\")"
      ],
      "execution_count": 57,
      "outputs": [
        {
          "output_type": "stream",
          "text": [
            "  LOCATION    Country INDICATOR  ... Value Flag Codes            Flags\n",
            "0      AUS  Australia   HO_BASE  ...   1.1          E  Estimated value\n",
            "1      AUT    Austria   HO_BASE  ...   1.0        NaN              NaN\n",
            "2      BEL    Belgium   HO_BASE  ...   2.0        NaN              NaN\n",
            "3      CAN     Canada   HO_BASE  ...   0.2        NaN              NaN\n",
            "\n",
            "[4 rows x 17 columns]\n",
            "       Country  ... Estimates Start After\n",
            "0  Afghanistan  ...                2013.0\n",
            "1      Albania  ...                2010.0\n",
            "2      Algeria  ...                2014.0\n",
            "3       Angola  ...                2014.0\n",
            "\n",
            "[4 rows x 7 columns]\n"
          ],
          "name": "stdout"
        },
        {
          "output_type": "execute_result",
          "data": {
            "text/plain": [
              "<matplotlib.axes._subplots.AxesSubplot at 0x7fc0d18fb780>"
            ]
          },
          "metadata": {
            "tags": []
          },
          "execution_count": 57
        },
        {
          "output_type": "display_data",
          "data": {
            "image/png": "[encoded data removed]",
            "text/plain": [
              "<Figure size 432x288 with 1 Axes>"
            ]
          },
          "metadata": {
            "tags": []
          }
        }
      ]
    },
    {
      "cell_type": "code",
      "metadata": {
        "id": "LVTYp4zg00Xg",
        "colab_type": "code",
        "colab": {
          "base_uri": "https://localhost:8080/",
          "height": 34
        },
        "outputId": "b8a9eabf-21cb-40de-cde6-c1df5d1fda10"
      },
      "source": [
        "model = sklearn.linear_model.LinearRegression();\n",
        "model.fit(X,Y);\n",
        "\n",
        "print(model.predict([[22587]]));"
      ],
      "execution_count": 58,
      "outputs": [
        {
          "output_type": "stream",
          "text": [
            "[[5.96242338]]\n"
          ],
          "name": "stdout"
        }
      ]
    },
    {
      "cell_type": "code",
      "metadata": {
        "colab_type": "code",
        "outputId": "4e3edf8a-e354-4f79-a101-085132c1db05",
        "id": "7cNSAH3wdl1q",
        "colab": {
          "base_uri": "https://localhost:8080/",
          "height": 34
        }
      },
      "source": [
        "model = sklearn.neighbors.KNeighborsRegressor(n_neighbors=3)\n",
        "model.fit(X,Y);\n",
        "\n",
        "print(model.predict([[22587]]));"
      ],
      "execution_count": 64,
      "outputs": [
        {
          "output_type": "stream",
          "text": [
            "[[5.76666667]]\n"
          ],
          "name": "stdout"
        }
      ]
    },
    {
      "cell_type": "code",
      "metadata": {
        "id": "cAUrnS_zd0o1",
        "colab_type": "code",
        "colab": {}
      },
      "source": [
        ""
      ],
      "execution_count": 0,
      "outputs": []
    }
  ]
}